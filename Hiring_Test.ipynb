{
 "cells": [
  {
   "cell_type": "code",
   "execution_count": 47,
   "id": "1ee0bf48",
   "metadata": {
    "scrolled": false
   },
   "outputs": [],
   "source": [
    "import requests\n",
    "\n",
    "# API Base URL and API Key\n",
    "API_URL = \"https://api.recruitment.shq.nz\"\n",
    "API_KEY = \"h523hDtETbkJ3nSJL323hjYLXbCyDaRZ\"\n",
    "CLIENT_ID = \"100\""
   ]
  },
  {
   "cell_type": "code",
   "execution_count": 48,
   "id": "f30b5dd0",
   "metadata": {},
   "outputs": [],
   "source": [
    "# API call to get domain information\n",
    "def get_domains(client_id, api_key):\n",
    "    try:\n",
    "        url = f\"{API_URL}/domains/{client_id}?api_key={api_key}\"\n",
    "        response = requests.get(url)\n",
    "        response.raise_for_status()      # Raise an exception if the response code is not 200\n",
    "        return response.json()\n",
    "    except requests.exceptions.RequestException as e:\n",
    "        print(f\"Error fetching domains: {e}\")\n",
    "        return None"
   ]
  },
  {
   "cell_type": "code",
   "execution_count": 49,
   "id": "bb90e5d7",
   "metadata": {},
   "outputs": [],
   "source": [
    "# API call to get DNS records\n",
    "def get_dns_records(zone_id, api_key):\n",
    "    try:\n",
    "        url = f\"{API_URL}/zones/{zone_id}?api_key={api_key}\"\n",
    "        response = requests.get(url)\n",
    "        response.raise_for_status()\n",
    "        return response.json()\n",
    "    except requests.exceptions.RequestException as e:\n",
    "        print(f\"Error fetching DNS records for zone {zone_id}: {e}\")\n",
    "        return None"
   ]
  },
  {
   "cell_type": "code",
   "execution_count": 50,
   "id": "6586bfa4",
   "metadata": {
    "scrolled": true
   },
   "outputs": [],
   "source": [
    "# Print domain and DNS records information\n",
    "def print_domain_and_dns_info():\n",
    "    domains_data = get_domains(CLIENT_ID, API_KEY)     # Get the domain information for the client\n",
    "\n",
    "    if domains_data and isinstance(domains_data, list):\n",
    "        print(\"Domains and DNS Records for Business Systems International:\")\n",
    "        for domain in domains_data:\n",
    "            print(f\"Domain: {domain.get('name', 'Unknown')}\")\n",
    "            for zone in domain.get('zones', []):\n",
    "                print(f\"  Zone Name: {zone.get('name', 'Unknown')}, Zone URI: {zone.get('uri', 'Unknown')}\")\n",
    "                zone_id = zone.get('uri', '').split('/')[-1]\n",
    "                if zone_id:\n",
    "                    dns_records = get_dns_records(zone_id, API_KEY)\n",
    "                    if dns_records and isinstance(dns_records, list):\n",
    "                        print(\"  DNS Records:\")\n",
    "                        for record in dns_records:\n",
    "                            print(f\"    DNS Record: {record.get('name', 'Unknown')}\")\n",
    "                            print(f\"    Record Type: {record.get('type', 'Unknown')}, Content: {record.get('content', 'Unknown')}\")\n",
    "                    else:\n",
    "                        print(\"    No DNS records found for this zone.\")\n",
    "                else:\n",
    "                    print(\"    Invalid zone ID.\")\n",
    "    else:\n",
    "        print(\"No domains found or unexpected format in domains data.\")"
   ]
  },
  {
   "cell_type": "code",
   "execution_count": 51,
   "id": "a98d0619",
   "metadata": {},
   "outputs": [
    {
     "name": "stdout",
     "output_type": "stream",
     "text": [
      "Domains and DNS Records for Business Systems International:\n",
      "Domain: shq.nz\n",
      "  Zone Name: recruitment.shq.nz, Zone URI: /zones/1\n",
      "    No DNS records found for this zone.\n",
      "  Zone Name: wal.shq.nz, Zone URI: /zones/2\n",
      "    No DNS records found for this zone.\n",
      "Domain: sitehost.nz\n",
      "  Zone Name: sitehost.nz, Zone URI: /zones/3\n",
      "    No DNS records found for this zone.\n",
      "  Zone Name: paste.sitehost.nz, Zone URI: /zones/4\n",
      "    No DNS records found for this zone.\n",
      "Domain: sitename.co.nz\n",
      "  Zone Name: sitename.co.nz, Zone URI: /zones/5\n",
      "    No DNS records found for this zone.\n"
     ]
    }
   ],
   "source": [
    "if __name__ == \"__main__\":\n",
    "    print_domain_and_dns_info()"
   ]
  }
 ],
 "metadata": {
  "kernelspec": {
   "display_name": "Python 3 (ipykernel)",
   "language": "python",
   "name": "python3"
  },
  "language_info": {
   "codemirror_mode": {
    "name": "ipython",
    "version": 3
   },
   "file_extension": ".py",
   "mimetype": "text/x-python",
   "name": "python",
   "nbconvert_exporter": "python",
   "pygments_lexer": "ipython3",
   "version": "3.9.7"
  }
 },
 "nbformat": 4,
 "nbformat_minor": 5
}
